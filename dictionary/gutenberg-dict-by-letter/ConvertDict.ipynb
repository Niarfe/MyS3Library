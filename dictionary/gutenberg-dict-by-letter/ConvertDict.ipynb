{
 "cells": [
  {
   "cell_type": "code",
   "execution_count": 1,
   "metadata": {},
   "outputs": [
    {
     "name": "stdout",
     "output_type": "stream",
     "text": [
      "Requirement already satisfied: hydraseq in /Users/niarfe/env3/lib/python3.6/site-packages (0.0.21)\n",
      "hydraseq                      0.0.21   \n"
     ]
    }
   ],
   "source": [
    "import re\n",
    "! pip install hydraseq; pip list | grep hydraseq"
   ]
  },
  {
   "cell_type": "code",
   "execution_count": 2,
   "metadata": {},
   "outputs": [],
   "source": [
    "st = \"<P><B>Xanthospermous</B> (<I>a.</I>) Having yellow seeds.</P>\"\n",
    "st2 = \"<P><B>Ambergris</B> (<I>n.</I>) A substance of the consistence of wax, found floating in the Indian Ocean and other parts of the tropics, and also as a morbid secretion in the intestines of the sperm whale (Physeter macrocephalus), which is believed to be in all cases its true origin.  In color it is white, ash-gray, yellow, or black, and often variegated like marble. The floating masses are sometimes from sixty to two hundred and twenty-five pounds in weight. It is wholly volatilized as a white vapor at 212¡ Fahrenheit, and is highly valued in perfumery.</P>\""
   ]
  },
  {
   "cell_type": "code",
   "execution_count": 3,
   "metadata": {},
   "outputs": [
    {
     "data": {
      "text/plain": [
       "'\"Ambergris\",\"n.\",\"A substance of the consistence of wax, found floating in the Indian Ocean and other parts of the tropics, and also as a morbid secretion in the intestines of the sperm whale (Physeter macrocephalus), which is believed to be in all cases its true origin.  In color it is white, ash-gray, yellow, or black, and often variegated like marble. The floating masses are sometimes from sixty to two hundred and twenty-five pounds in weight. It is wholly volatilized as a white vapor at 212¡ Fahrenheit, and is highly valued in perfumery.\"'"
      ]
     },
     "execution_count": 3,
     "metadata": {},
     "output_type": "execute_result"
    }
   ],
   "source": [
    "def parse_line(line):\n",
    "    if not line.startswith('<P>'):\n",
    "        return None\n",
    "    \n",
    "    rex_word = re.compile(r'<B>(.*)<\\/B>')\n",
    "    rex_part = re.compile(r'<I>(.*)<\\/I>')\n",
    "    rex_defi = re.compile(r'>\\)(.*)<\\/P>')\n",
    "    word = re.search(rex_word, line).group(1).replace('\"', \"'\").strip()\n",
    "    part = re.search(rex_part, line).group(1).replace('\"', \"'\").strip()\n",
    "    defi = re.search(rex_defi, line).group(1).replace('\"', \"'\").strip()\n",
    "\n",
    "    final = '\"{}\",\"{}\",\"{}\"'.format(word, part, defi)\n",
    "    return final\n",
    "\n",
    "parse_line(st2)"
   ]
  },
  {
   "cell_type": "code",
   "execution_count": 4,
   "metadata": {},
   "outputs": [
    {
     "name": "stdout",
     "output_type": "stream",
     "text": [
      "\u001b[32mConvertDict.ipynb\u001b[m\u001b[m \u001b[32mwb1913_f.html\u001b[m\u001b[m     \u001b[32mwb1913_n.html\u001b[m\u001b[m     \u001b[32mwb1913_v.html\u001b[m\u001b[m\r\n",
      "\u001b[1m\u001b[34mascsv\u001b[m\u001b[m             \u001b[32mwb1913_g.html\u001b[m\u001b[m     \u001b[32mwb1913_o.html\u001b[m\u001b[m     \u001b[32mwb1913_w.html\u001b[m\u001b[m\r\n",
      "\u001b[1m\u001b[34mdebug\u001b[m\u001b[m             \u001b[32mwb1913_h.html\u001b[m\u001b[m     \u001b[32mwb1913_p.html\u001b[m\u001b[m     \u001b[32mwb1913_x.html\u001b[m\u001b[m\r\n",
      "\u001b[32mwb1913_a.html\u001b[m\u001b[m     \u001b[32mwb1913_i.html\u001b[m\u001b[m     \u001b[32mwb1913_q.html\u001b[m\u001b[m     \u001b[32mwb1913_y.html\u001b[m\u001b[m\r\n",
      "\u001b[32mwb1913_b.html\u001b[m\u001b[m     \u001b[32mwb1913_j.html\u001b[m\u001b[m     \u001b[32mwb1913_r.html\u001b[m\u001b[m     \u001b[32mwb1913_z.html\u001b[m\u001b[m\r\n",
      "\u001b[32mwb1913_c.html\u001b[m\u001b[m     \u001b[32mwb1913_k.html\u001b[m\u001b[m     \u001b[32mwb1913_s.html\u001b[m\u001b[m\r\n",
      "\u001b[32mwb1913_d.html\u001b[m\u001b[m     \u001b[32mwb1913_l.html\u001b[m\u001b[m     \u001b[32mwb1913_t.html\u001b[m\u001b[m\r\n",
      "\u001b[32mwb1913_e.html\u001b[m\u001b[m     \u001b[32mwb1913_m.html\u001b[m\u001b[m     \u001b[32mwb1913_u.html\u001b[m\u001b[m\r\n"
     ]
    }
   ],
   "source": [
    "! ls"
   ]
  },
  {
   "cell_type": "code",
   "execution_count": 5,
   "metadata": {},
   "outputs": [],
   "source": [
    "import io\n",
    "import string\n",
    "def convert_file(letter):\n",
    "    with io.open('wb1913_{}.html'.format(letter),'r',encoding='utf-8',errors='ignore') as source, io.open('ascsv/{}.csv'.format(letter), 'w', encoding='utf-8') as target:\n",
    "        target.write(\"word,type,definition\\n\")\n",
    "        for line in source:\n",
    "            parsed_line = parse_line(line)\n",
    "            if parsed_line:\n",
    "                target.write(parsed_line+'\\n')\n",
    "\n",
    "\n",
    "for letter in list(string.ascii_lowercase):\n",
    "    convert_file(letter)"
   ]
  },
  {
   "cell_type": "code",
   "execution_count": 6,
   "metadata": {},
   "outputs": [
    {
     "name": "stdout",
     "output_type": "stream",
     "text": [
      "\u001b[32ma.csv\u001b[m\u001b[m \u001b[32mc.csv\u001b[m\u001b[m \u001b[32me.csv\u001b[m\u001b[m \u001b[32mg.csv\u001b[m\u001b[m \u001b[32mi.csv\u001b[m\u001b[m \u001b[32mk.csv\u001b[m\u001b[m \u001b[32mm.csv\u001b[m\u001b[m \u001b[32mo.csv\u001b[m\u001b[m \u001b[32mq.csv\u001b[m\u001b[m \u001b[32ms.csv\u001b[m\u001b[m \u001b[32mu.csv\u001b[m\u001b[m \u001b[32mw.csv\u001b[m\u001b[m \u001b[32my.csv\u001b[m\u001b[m\r\n",
      "\u001b[32mb.csv\u001b[m\u001b[m \u001b[32md.csv\u001b[m\u001b[m \u001b[32mf.csv\u001b[m\u001b[m \u001b[32mh.csv\u001b[m\u001b[m \u001b[32mj.csv\u001b[m\u001b[m \u001b[32ml.csv\u001b[m\u001b[m \u001b[32mn.csv\u001b[m\u001b[m \u001b[32mp.csv\u001b[m\u001b[m \u001b[32mr.csv\u001b[m\u001b[m \u001b[32mt.csv\u001b[m\u001b[m \u001b[32mv.csv\u001b[m\u001b[m \u001b[32mx.csv\u001b[m\u001b[m \u001b[32mz.csv\u001b[m\u001b[m\r\n"
     ]
    }
   ],
   "source": [
    "! ls ascsv\n",
    "! open ascsv/e.csv"
   ]
  },
  {
   "cell_type": "code",
   "execution_count": 7,
   "metadata": {},
   "outputs": [
    {
     "data": {
      "text/plain": [
       "['VB_T', 'P_P']"
      ]
     },
     "execution_count": 7,
     "metadata": {},
     "output_type": "execute_result"
    }
   ],
   "source": [
    "def process_type(tp):\n",
    "    tps = tp.split('&')\n",
    "    return [tp.strip().upper().replace('.','').replace(' ', '_') for tp in tps]\n",
    "\n",
    "process_type(\"vb. t. & p. p.\")"
   ]
  },
  {
   "cell_type": "code",
   "execution_count": 10,
   "metadata": {},
   "outputs": [
    {
     "name": "stdout",
     "output_type": "stream",
     "text": [
      "Loading letter:  a\n",
      "Loading letter:  b\n",
      "Loading letter:  c\n",
      "Loading letter:  d\n",
      "Loading letter:  e\n",
      "Loading letter:  f\n",
      "Loading letter:  g\n",
      "Loading letter:  h\n",
      "Loading letter:  i\n",
      "Loading letter:  j\n",
      "Loading letter:  k\n",
      "Loading letter:  l\n",
      "Loading letter:  m\n",
      "Loading letter:  n\n",
      "Loading letter:  o\n",
      "Loading letter:  p\n",
      "Loading letter:  q\n",
      "Loading letter:  r\n",
      "Loading letter:  s\n",
      "Loading letter:  t\n",
      "Loading letter:  u\n",
      "Loading letter:  v\n",
      "Loading letter:  w\n",
      "Loading letter:  x\n",
      "Loading letter:  y\n",
      "Loading letter:  z\n"
     ]
    }
   ],
   "source": [
    "import hydraseq\n",
    "import csv\n",
    "from hydraseq import Hydraseq\n",
    "\n",
    "hydras = []\n",
    "\n",
    "def load_file_letter(letter, hydras):\n",
    "    reader = csv.DictReader(open('ascsv/{}.csv'.format(letter), 'r'))\n",
    "    hydra = Hydraseq('0_')\n",
    "    hydras.append(hydra)\n",
    "    for row in reader:\n",
    "        for tp in process_type(row['type']):\n",
    "            insert_string = \"{} {}\".format(row['word'].strip().lower(), \"0_\"+tp)\n",
    "            hydra.insert(insert_string)\n",
    "\n",
    "for letter in list(string.ascii_lowercase):\n",
    "    print(\"Loading letter: \", letter)\n",
    "    load_file_letter(letter, hydras)\n"
   ]
  },
  {
   "cell_type": "code",
   "execution_count": 18,
   "metadata": {},
   "outputs": [
    {
     "data": {
      "text/plain": [
       "Hydra:\n",
       "\tactive nodes: [brother]\n",
       "\tnext nodes: [german, 0_V_T, 0_N]"
      ]
     },
     "execution_count": 18,
     "metadata": {},
     "output_type": "execute_result"
    }
   ],
   "source": [
    "hydras[1].look_ahead(\"brother\")"
   ]
  },
  {
   "cell_type": "code",
   "execution_count": 19,
   "metadata": {},
   "outputs": [
    {
     "name": "stdout",
     "output_type": "stream",
     "text": [
      "/Volumes/Transcend/MyS3Library/dictionary/gutenberg-dict-by-letter\r\n"
     ]
    }
   ],
   "source": [
    "! pwd"
   ]
  }
 ],
 "metadata": {
  "kernelspec": {
   "display_name": "Python 3",
   "language": "python",
   "name": "python3"
  },
  "language_info": {
   "codemirror_mode": {
    "name": "ipython",
    "version": 3
   },
   "file_extension": ".py",
   "mimetype": "text/x-python",
   "name": "python",
   "nbconvert_exporter": "python",
   "pygments_lexer": "ipython3",
   "version": "3.6.4"
  }
 },
 "nbformat": 4,
 "nbformat_minor": 2
}
